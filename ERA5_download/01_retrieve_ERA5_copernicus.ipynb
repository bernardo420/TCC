{
 "cells": [
  {
   "cell_type": "raw",
   "metadata": {},
   "source": [
    "<script>\n",
    "  function code_toggle() {\n",
    "    if (code_shown){\n",
    "      $('div.input').hide('500');\n",
    "      $('#toggleButton').val('Show Code')\n",
    "    } else {\n",
    "      $('div.input').show('500');\n",
    "      $('#toggleButton').val('Hide Code')\n",
    "    }\n",
    "    code_shown = !code_shown\n",
    "  }\n",
    "\n",
    "  $( document ).ready(function(){\n",
    "   code_shown=false;\n",
    "    $('div.input').hide()\n",
    "  });\n",
    "</script>\n",
    "<form action=\"javascript:code_toggle()\"><input type=\"submit\" id=\"toggleButton\" value=\"Show Code\"></form>"
   ]
  },
  {
   "cell_type": "markdown",
   "metadata": {},
   "source": [
    "# Retrieve ERA5  Reanalysis Data from Copernicus API"
   ]
  },
  {
   "cell_type": "markdown",
   "metadata": {},
   "source": [
    "# Table of Contents\n",
    " 1. [Purpose](#Purpose)\n",
    " 1. [Instructions](#Instructions)\n",
    "   1. [Inputs](#Inputs)\n",
    "   1. [Outputs](#Outputs)\n",
    "   1. [Requirements](#Requirements)\n",
    " 1. [Additional resources](#Additional-resources)\n",
    " 1. [Import packages](#Import-packages)\n",
    " 1. [User Inputs](#User-Inputs)\n",
    " 1. [Download data](#Download-data)\n",
    " 1. [Ingest data](#Ingest-data)\n",
    " 1. [Transform data](#Transform-data)\n",
    " 1. [Export data](#Export-data)\n",
    " 1. [Wrap up](#Wrap-up)"
   ]
  },
  {
   "cell_type": "markdown",
   "metadata": {},
   "source": [
    "# Purpose\n",
    "[Back to TOC](#Table-of-Contents) | [Submit feedback to the Huracan team](https://forms.office.com/r/3retMYiQPZ)\n",
    "\n",
    "Queries Copernicus CDS API ERA5 data and returns the 9 nearest points data in .txt format.<br>\n",
    "\n",
    "# Instructions\n",
    "[Back to TOC](#Table-of-Contents) | [Submit feedback to the Huracan team](https://forms.office.com/r/3retMYiQPZ)\n",
    "\n",
    "1. Verify that you have cdspi package installed and Auth token configured (https://cds.climate.copernicus.eu/api-how-to). Verify that xarray and dask packages are installed as well.\n",
    "2. Fill out all inputs in User Input cell\n",
    "3. Run relevant cells in this notebook\n",
    "\n",
    "**To check hornet job queue for status of previously submitted jobs:**\n",
    "1. Re-run User Input cell\n",
    "2. Re-run cell for checking status of your request within the hornet queue\n",
    "\n",
    "## Inputs\n",
    "- site:  Name of the site (used for naming files generated in Outputs)\n",
    "- lat:   Latitude of the site (decimal deg.)\n",
    "- lon:   Longitude of the site (decimal deg.)\n",
    "- outputDir:   Output directory where .txt should be saved\n",
    "- start_date:   The start date for data query ('dd-mm-yyyy')\n",
    "- end_date:   The end date for data query ('dd-mm-yyyy')\n",
    "- TandPData: Chose True or False (no quotation marks) to request separate temperature and pressure data files\n",
    "- otherData: Select other datasets that may be relevant. Variable names may be found in the data documentation at https://confluence.ecmwf.int/display/CKB/ERA5%3A+data+documentation\n",
    "\n",
    "## Outputs\n",
    "A .txt file for each of the selected variables. Each file contains the hourly time series of that specific variable and period, for the ERA5 cell that corresponds to the input coordinates and the 8 adjacent cells.\n",
    "\n",
    "\n",
    "## Requirements\n",
    "Must be run in huracan_env environment, may require a connection to the Houston, Singapore or UK VPN.\n",
    "\n",
    "## Note\n",
    "This notebook is mainly intended for the download of ERA5 reanalysys data from recent months or years that is not available from Green Power Monitoring servers. Since data requests take some time to be fulfilled by CDS due to the high volume of requests it manages on a regular basis, downloading many years worth of data or a lot of variables may take a large amount of time. Should that be the case, running multiple instances of this notebook will allow to log several request in the CDS queue simultaneously, which will significantly reduce the time needed to complete the download.\n",
    "\n",
    "# Additional resources\n",
    " - [Huracan Training - Wind](https://dev.azure.com/energy-innovation/huracan/_wiki/wikis/huracan.wiki/74/Huracan-Training-Wind) - training videos and other resources\n",
    " - [Submit feedback to the Huracan team](https://forms.office.com/r/3retMYiQPZ)"
   ]
  },
  {
   "cell_type": "markdown",
   "metadata": {},
   "source": [
    "# Import packages\n",
    "[Back to TOC](#Table-of-Contents) | [Submit feedback to the Huracan team](https://forms.office.com/r/3retMYiQPZ)"
   ]
  },
  {
   "cell_type": "code",
   "execution_count": 1,
   "metadata": {},
   "outputs": [
    {
     "data": {
      "text/html": [
       "        <script type=\"text/javascript\">\n",
       "        window.PlotlyConfig = {MathJaxConfig: 'local'};\n",
       "        if (window.MathJax) {MathJax.Hub.Config({SVG: {font: \"STIX-Web\"}});}\n",
       "        if (typeof require !== 'undefined') {\n",
       "        require.undef(\"plotly\");\n",
       "        requirejs.config({\n",
       "            paths: {\n",
       "                'plotly': ['https://cdn.plot.ly/plotly-latest.min']\n",
       "            }\n",
       "        });\n",
       "        require(['plotly'], function(Plotly) {\n",
       "            window._Plotly = Plotly;\n",
       "        });\n",
       "        }\n",
       "        </script>\n",
       "        "
      ]
     },
     "metadata": {},
     "output_type": "display_data"
    }
   ],
   "source": [
    "\n",
    "import huracan as hn\n",
    "import numpy as np\n",
    "import pandas as pd\n",
    "import xarray as xr\n",
    "import math\n",
    "import os\n",
    "#import time\n",
    "import datetime\n",
    "\n",
    "from get_era5_cdsapi import *\n",
    "from process_era5 import *\n",
    "\n",
    "import logging\n",
    "logger = logging.getLogger(\"cdsapi\")\n",
    "logger.setLevel(logging.INFO)\n",
    "\n",
    "\n",
    "verit_user = hn.utils.login.get_user()\n",
    "min_hn_version = '2020.12.23'\n",
    "hn_version = hn.__version__\n",
    "hn.utils.tests.assert_huracan_is_current(min_hn_version)"
   ]
  },
  {
   "cell_type": "markdown",
   "metadata": {},
   "source": [
    "# User Inputs\n",
    "[Back to TOC](#Table-of-Contents) | [Submit feedback to the Huracan team](https://forms.office.com/r/3retMYiQPZ)"
   ]
  },
  {
   "cell_type": "code",
   "execution_count": 2,
   "metadata": {},
   "outputs": [
    {
     "name": "stdout",
     "output_type": "stream",
     "text": [
      "Setting end date to : 2022-03-31\n"
     ]
    }
   ],
   "source": [
    "# Project info\n",
    "site = \"Test Site\"\n",
    "project_number = None\n",
    "lat =  40.9678\n",
    "lon =  26.2941\n",
    "outputDir = r\".\"\n",
    "\n",
    "\n",
    "start_date = '2021-10-01'\n",
    "#end_date = '2022-03-25'\n",
    "end_date = None # Set end date to None to use current date  \n",
    "\n",
    "if end_date is None:\n",
    "    d = datetime.datetime.now()\n",
    "    end_date = d.date().strftime(\"%Y-%m-%d\")\n",
    "    print(f'Setting end date to : {end_date}')\n",
    "    \n",
    "# define the datasets required\n",
    "windData = True\n",
    "TandPData = False\n",
    "otherData = None\n",
    "otherData = ['forecast_surface_roughness','large_scale_snowfall_rate_water_equivalent']\n"
   ]
  },
  {
   "cell_type": "markdown",
   "metadata": {},
   "source": [
    "# Download data\n",
    "[Back to TOC](#Table-of-Contents) | [Submit feedback to the Huracan team](https://forms.office.com/r/3retMYiQPZ)\n",
    "\n",
    "This function downloads ERA5 data for the selected variables from Copernicus Data Store via its API (cdsapi). First it prepares the latitude and longitude inputs and then passes those inputs along with the rest to the function that retrieves the data from CDS. After calling this function, the output will be a series of .nc files containing the downloaded data for each variable and year.\n",
    "\n",
    "You can check the status of you request [here](https://cds.climate.copernicus.eu/cdsapp#!/yourrequests)"
   ]
  },
  {
   "cell_type": "code",
   "execution_count": 3,
   "metadata": {
    "hide_input": true
   },
   "outputs": [
    {
     "name": "stdout",
     "output_type": "stream",
     "text": [
      "--- Year: 2021\n",
      "\n",
      "- Requesting var: 100m_u_component_of_wind\n",
      "\n",
      "Current Time:13:11:41\n"
     ]
    },
    {
     "name": "stderr",
     "output_type": "stream",
     "text": [
      "INFO:cdsapi:Welcome to the CDS\n",
      "INFO:cdsapi:Sending request to https://cds.climate.copernicus.eu/api/v2/resources/reanalysis-era5-single-levels\n",
      "INFO:cdsapi:Request is queued\n"
     ]
    },
    {
     "ename": "KeyboardInterrupt",
     "evalue": "",
     "output_type": "error",
     "traceback": [
      "\u001b[1;31m---------------------------------------------------------------------------\u001b[0m",
      "\u001b[1;31mKeyboardInterrupt\u001b[0m                         Traceback (most recent call last)",
      "\u001b[1;32m~\\AppData\\Local\\Temp\\ipykernel_3912\\1459219452.py\u001b[0m in \u001b[0;36m<module>\u001b[1;34m\u001b[0m\n\u001b[1;32m----> 1\u001b[1;33m \u001b[0mvars\u001b[0m\u001b[1;33m,\u001b[0m \u001b[0mvars_others\u001b[0m\u001b[1;33m=\u001b[0m\u001b[0mdownload_era5\u001b[0m\u001b[1;33m(\u001b[0m\u001b[0msite\u001b[0m\u001b[1;33m,\u001b[0m \u001b[0mlat\u001b[0m\u001b[1;33m,\u001b[0m \u001b[0mlon\u001b[0m\u001b[1;33m,\u001b[0m \u001b[0mstart_date\u001b[0m\u001b[1;33m,\u001b[0m \u001b[0mend_date\u001b[0m\u001b[1;33m,\u001b[0m \u001b[0moutputDir\u001b[0m\u001b[1;33m,\u001b[0m \u001b[0mwindData\u001b[0m\u001b[1;33m,\u001b[0m\u001b[0mTandPData\u001b[0m\u001b[1;33m,\u001b[0m \u001b[0motherData\u001b[0m\u001b[1;33m)\u001b[0m\u001b[1;33m\u001b[0m\u001b[1;33m\u001b[0m\u001b[0m\n\u001b[0m",
      "\u001b[1;32m~\\OneDrive - DNV\\DNV-GL\\ERA5-Jaime\\NotebookVersion\\process_era5.py\u001b[0m in \u001b[0;36mdownload_era5\u001b[1;34m(site, lat, lon, start_date, end_date, outputDir, windData, TandPData, otherData)\u001b[0m\n\u001b[0;32m     48\u001b[0m     get_era5_9nodes_bydates(name = site, lon_d=lon_d, lat_d=lat_d, vars=vars, \n\u001b[0;32m     49\u001b[0m                                 \u001b[0mdate_ini\u001b[0m\u001b[1;33m=\u001b[0m\u001b[0mstart_date\u001b[0m\u001b[1;33m,\u001b[0m \u001b[0mdate_end\u001b[0m \u001b[1;33m=\u001b[0m \u001b[0mend_date\u001b[0m\u001b[1;33m,\u001b[0m\u001b[1;33m\u001b[0m\u001b[1;33m\u001b[0m\u001b[0m\n\u001b[1;32m---> 50\u001b[1;33m                                 grid_step=0.3, dir_out=outputDir)\n\u001b[0m\u001b[0;32m     51\u001b[0m     \u001b[1;32mreturn\u001b[0m \u001b[0mvars\u001b[0m\u001b[1;33m,\u001b[0m \u001b[0mvars_others\u001b[0m\u001b[1;33m\u001b[0m\u001b[1;33m\u001b[0m\u001b[0m\n\u001b[0;32m     52\u001b[0m \u001b[1;33m\u001b[0m\u001b[0m\n",
      "\u001b[1;32m~\\OneDrive - DNV\\DNV-GL\\ERA5-Jaime\\NotebookVersion\\get_era5_cdsapi.py\u001b[0m in \u001b[0;36mget_era5_9nodes_bydates\u001b[1;34m(name, lon_d, lat_d, vars, date_ini, date_end, grid_step, dir_out)\u001b[0m\n\u001b[0;32m    143\u001b[0m             \u001b[0mfile\u001b[0m \u001b[1;33m=\u001b[0m \u001b[1;34mf'{dir_out}/era5_{name}_{var}_{y}.nc'\u001b[0m\u001b[1;33m\u001b[0m\u001b[1;33m\u001b[0m\u001b[0m\n\u001b[0;32m    144\u001b[0m             \u001b[1;32mif\u001b[0m \u001b[0my\u001b[0m\u001b[1;33m==\u001b[0m\u001b[0myini\u001b[0m\u001b[1;33m:\u001b[0m\u001b[1;33m\u001b[0m\u001b[1;33m\u001b[0m\u001b[0m\n\u001b[1;32m--> 145\u001b[1;33m                 \u001b[0mget_era5_year\u001b[0m\u001b[1;33m(\u001b[0m\u001b[0mlon_d\u001b[0m\u001b[1;33m,\u001b[0m\u001b[0mlat_d\u001b[0m\u001b[1;33m,\u001b[0m\u001b[0mvar\u001b[0m\u001b[1;33m,\u001b[0m\u001b[0mstr\u001b[0m\u001b[1;33m(\u001b[0m\u001b[0my\u001b[0m\u001b[1;33m)\u001b[0m\u001b[1;33m,\u001b[0m\u001b[0mfile\u001b[0m\u001b[1;33m,\u001b[0m \u001b[0mmonths\u001b[0m \u001b[1;33m=\u001b[0m \u001b[0mmonths_first_year\u001b[0m\u001b[1;33m,\u001b[0m \u001b[0mdays\u001b[0m\u001b[1;33m=\u001b[0m\u001b[0mdays\u001b[0m\u001b[1;33m,\u001b[0m \u001b[0mgrid_step\u001b[0m\u001b[1;33m=\u001b[0m\u001b[0mgrid_step\u001b[0m\u001b[1;33m)\u001b[0m\u001b[1;33m\u001b[0m\u001b[1;33m\u001b[0m\u001b[0m\n\u001b[0m\u001b[0;32m    146\u001b[0m             \u001b[1;32melif\u001b[0m \u001b[0my\u001b[0m\u001b[1;33m==\u001b[0m\u001b[0myend\u001b[0m\u001b[1;33m:\u001b[0m\u001b[1;33m\u001b[0m\u001b[1;33m\u001b[0m\u001b[0m\n\u001b[0;32m    147\u001b[0m                 \u001b[0mget_era5_year\u001b[0m\u001b[1;33m(\u001b[0m\u001b[0mlon_d\u001b[0m\u001b[1;33m,\u001b[0m\u001b[0mlat_d\u001b[0m\u001b[1;33m,\u001b[0m\u001b[0mvar\u001b[0m\u001b[1;33m,\u001b[0m\u001b[0mstr\u001b[0m\u001b[1;33m(\u001b[0m\u001b[0my\u001b[0m\u001b[1;33m)\u001b[0m\u001b[1;33m,\u001b[0m\u001b[0mfile\u001b[0m\u001b[1;33m,\u001b[0m \u001b[0mmonths\u001b[0m \u001b[1;33m=\u001b[0m \u001b[0mmonths_last_year\u001b[0m\u001b[1;33m,\u001b[0m \u001b[0mdays\u001b[0m\u001b[1;33m=\u001b[0m\u001b[0mdays\u001b[0m\u001b[1;33m,\u001b[0m \u001b[0mgrid_step\u001b[0m\u001b[1;33m=\u001b[0m\u001b[0mgrid_step\u001b[0m\u001b[1;33m)\u001b[0m\u001b[1;33m\u001b[0m\u001b[1;33m\u001b[0m\u001b[0m\n",
      "\u001b[1;32m~\\OneDrive - DNV\\DNV-GL\\ERA5-Jaime\\NotebookVersion\\get_era5_cdsapi.py\u001b[0m in \u001b[0;36mget_era5_year\u001b[1;34m(lon, lat, var, year, file, months, days, grid_step)\u001b[0m\n\u001b[0;32m     49\u001b[0m             \u001b[1;34m'format'\u001b[0m\u001b[1;33m:\u001b[0m\u001b[1;34m'netcdf'\u001b[0m\u001b[1;33m\u001b[0m\u001b[1;33m\u001b[0m\u001b[0m\n\u001b[0;32m     50\u001b[0m         },\n\u001b[1;32m---> 51\u001b[1;33m         file)\n\u001b[0m\u001b[0;32m     52\u001b[0m \u001b[1;33m\u001b[0m\u001b[0m\n\u001b[0;32m     53\u001b[0m \u001b[1;32mdef\u001b[0m \u001b[0mget_era5_area_year\u001b[0m\u001b[1;33m(\u001b[0m\u001b[0mnorth\u001b[0m\u001b[1;33m,\u001b[0m\u001b[0mwest\u001b[0m\u001b[1;33m,\u001b[0m\u001b[0msouth\u001b[0m\u001b[1;33m,\u001b[0m\u001b[0meast\u001b[0m\u001b[1;33m,\u001b[0m\u001b[0mvar\u001b[0m\u001b[1;33m,\u001b[0m\u001b[0myear\u001b[0m\u001b[1;33m,\u001b[0m\u001b[0mfile\u001b[0m\u001b[1;33m,\u001b[0m\u001b[0mgrid_step\u001b[0m\u001b[1;33m=\u001b[0m\u001b[1;36m0.25\u001b[0m\u001b[1;33m)\u001b[0m\u001b[1;33m:\u001b[0m\u001b[1;33m\u001b[0m\u001b[1;33m\u001b[0m\u001b[0m\n",
      "\u001b[1;32m~\\AppData\\Local\\Continuum\\miniconda3\\envs\\huracan_env\\lib\\site-packages\\cdsapi\\api.py\u001b[0m in \u001b[0;36mretrieve\u001b[1;34m(self, name, request, target)\u001b[0m\n\u001b[0;32m    315\u001b[0m \u001b[1;33m\u001b[0m\u001b[0m\n\u001b[0;32m    316\u001b[0m     \u001b[1;32mdef\u001b[0m \u001b[0mretrieve\u001b[0m\u001b[1;33m(\u001b[0m\u001b[0mself\u001b[0m\u001b[1;33m,\u001b[0m \u001b[0mname\u001b[0m\u001b[1;33m,\u001b[0m \u001b[0mrequest\u001b[0m\u001b[1;33m,\u001b[0m \u001b[0mtarget\u001b[0m\u001b[1;33m=\u001b[0m\u001b[1;32mNone\u001b[0m\u001b[1;33m)\u001b[0m\u001b[1;33m:\u001b[0m\u001b[1;33m\u001b[0m\u001b[1;33m\u001b[0m\u001b[0m\n\u001b[1;32m--> 317\u001b[1;33m         \u001b[0mresult\u001b[0m \u001b[1;33m=\u001b[0m \u001b[0mself\u001b[0m\u001b[1;33m.\u001b[0m\u001b[0m_api\u001b[0m\u001b[1;33m(\u001b[0m\u001b[1;34m'%s/resources/%s'\u001b[0m \u001b[1;33m%\u001b[0m \u001b[1;33m(\u001b[0m\u001b[0mself\u001b[0m\u001b[1;33m.\u001b[0m\u001b[0murl\u001b[0m\u001b[1;33m,\u001b[0m \u001b[0mname\u001b[0m\u001b[1;33m)\u001b[0m\u001b[1;33m,\u001b[0m \u001b[0mrequest\u001b[0m\u001b[1;33m,\u001b[0m \u001b[1;34m'POST'\u001b[0m\u001b[1;33m)\u001b[0m\u001b[1;33m\u001b[0m\u001b[1;33m\u001b[0m\u001b[0m\n\u001b[0m\u001b[0;32m    318\u001b[0m         \u001b[1;32mif\u001b[0m \u001b[0mtarget\u001b[0m \u001b[1;32mis\u001b[0m \u001b[1;32mnot\u001b[0m \u001b[1;32mNone\u001b[0m\u001b[1;33m:\u001b[0m\u001b[1;33m\u001b[0m\u001b[1;33m\u001b[0m\u001b[0m\n\u001b[0;32m    319\u001b[0m             \u001b[0mresult\u001b[0m\u001b[1;33m.\u001b[0m\u001b[0mdownload\u001b[0m\u001b[1;33m(\u001b[0m\u001b[0mtarget\u001b[0m\u001b[1;33m)\u001b[0m\u001b[1;33m\u001b[0m\u001b[1;33m\u001b[0m\u001b[0m\n",
      "\u001b[1;32m~\\AppData\\Local\\Continuum\\miniconda3\\envs\\huracan_env\\lib\\site-packages\\cdsapi\\api.py\u001b[0m in \u001b[0;36m_api\u001b[1;34m(self, url, request, method)\u001b[0m\n\u001b[0;32m    434\u001b[0m \u001b[1;33m\u001b[0m\u001b[0m\n\u001b[0;32m    435\u001b[0m                 \u001b[0mself\u001b[0m\u001b[1;33m.\u001b[0m\u001b[0mdebug\u001b[0m\u001b[1;33m(\u001b[0m\u001b[1;34m\"Request ID is %s, sleep %s\"\u001b[0m\u001b[1;33m,\u001b[0m \u001b[0mrid\u001b[0m\u001b[1;33m,\u001b[0m \u001b[0msleep\u001b[0m\u001b[1;33m)\u001b[0m\u001b[1;33m\u001b[0m\u001b[1;33m\u001b[0m\u001b[0m\n\u001b[1;32m--> 436\u001b[1;33m                 \u001b[0mtime\u001b[0m\u001b[1;33m.\u001b[0m\u001b[0msleep\u001b[0m\u001b[1;33m(\u001b[0m\u001b[0msleep\u001b[0m\u001b[1;33m)\u001b[0m\u001b[1;33m\u001b[0m\u001b[1;33m\u001b[0m\u001b[0m\n\u001b[0m\u001b[0;32m    437\u001b[0m                 \u001b[0msleep\u001b[0m \u001b[1;33m*=\u001b[0m \u001b[1;36m1.5\u001b[0m\u001b[1;33m\u001b[0m\u001b[1;33m\u001b[0m\u001b[0m\n\u001b[0;32m    438\u001b[0m                 \u001b[1;32mif\u001b[0m \u001b[0msleep\u001b[0m \u001b[1;33m>\u001b[0m \u001b[0mself\u001b[0m\u001b[1;33m.\u001b[0m\u001b[0msleep_max\u001b[0m\u001b[1;33m:\u001b[0m\u001b[1;33m\u001b[0m\u001b[1;33m\u001b[0m\u001b[0m\n",
      "\u001b[1;31mKeyboardInterrupt\u001b[0m: "
     ]
    }
   ],
   "source": [
    "vars, vars_others=download_era5(site, lat, lon, start_date, end_date, outputDir, windData,TandPData, otherData)"
   ]
  },
  {
   "cell_type": "markdown",
   "metadata": {},
   "source": [
    "# Ingest data\n",
    "[Back to TOC](#Table-of-Contents) | [Submit feedback to the Huracan team](https://forms.office.com/r/3retMYiQPZ)\n",
    "\n",
    "Since .nc data is somewhat complex to work with, this function processes previously downloaded .nc files to dataframes for each variable and year. As inputs, it takes the start and finish date, as well as the variables that have been downloaded. Returns a dataframe that aggregates all the downloaded information, on which operations and modifications can be more easily performed."
   ]
  },
  {
   "cell_type": "code",
   "execution_count": null,
   "metadata": {},
   "outputs": [],
   "source": [
    "df_data, vars_short=ingest_era5(start_date, end_date, vars, site, outputDir)"
   ]
  },
  {
   "cell_type": "code",
   "execution_count": null,
   "metadata": {},
   "outputs": [],
   "source": [
    "df_data"
   ]
  },
  {
   "cell_type": "markdown",
   "metadata": {},
   "source": [
    "# Transform data\n",
    "[Back to TOC](#Table-of-Contents) | [Submit feedback to the Huracan team](https://forms.office.com/r/3retMYiQPZ)\n",
    "\n",
    "Now that data is stored in a dataframe and ready for manipulation, this function takes the ERA5 dataframe, along with the downloaded variables, and performs two sequential operations: \n",
    "-Step1: transforms wind data from cartesian to polar form, and changes units of temperature to ºC and pressure to mbar.\n",
    "-Step2: transposes to match DNVGL 9 coordinates format to export.\n",
    "Returns the transformed dataframe, along with an array containing the 9 coordinates."
   ]
  },
  {
   "cell_type": "code",
   "execution_count": null,
   "metadata": {},
   "outputs": [],
   "source": [
    "df_data,cpoints=transform_era5(df_data, windData, TandPData, otherData, vars_others, vars_short)"
   ]
  },
  {
   "cell_type": "code",
   "execution_count": null,
   "metadata": {},
   "outputs": [],
   "source": [
    "df_data"
   ]
  },
  {
   "cell_type": "markdown",
   "metadata": {},
   "source": [
    "# Export data\n",
    "[Back to TOC](#Table-of-Contents) | [Submit feedback to the Huracan team](https://forms.office.com/r/3retMYiQPZ)\n",
    "\n",
    "Finally, it is necessary to export the data so that it may be used in other applications. This function takes the ERA 5 dataframe, the coordinates array and initial inputs. For each of the datasets requested, this function prepares and exports a .txt file with the hourly values for each variable: wind, temperature and pressure, and other data."
   ]
  },
  {
   "cell_type": "code",
   "execution_count": null,
   "metadata": {},
   "outputs": [],
   "source": [
    "export_era5(df_data, cpoints, site, windData, TandPData, otherData, vars, vars_others, vars_short, outputDir)"
   ]
  },
  {
   "cell_type": "markdown",
   "metadata": {},
   "source": [
    "# Wrap-up\n",
    "[Back to TOC](#Table-of-Contents) | [Submit feedback to the Huracan team](https://forms.office.com/r/3retMYiQPZ)"
   ]
  },
  {
   "cell_type": "markdown",
   "metadata": {},
   "source": [
    "## Check that cells were run in order\n",
    "\n",
    "Please run the cell below to verify that cells were run in order. This will show a warning if the number of cell executions is more than the number of cells in the original version of this notebook."
   ]
  },
  {
   "cell_type": "code",
   "execution_count": null,
   "metadata": {},
   "outputs": [],
   "source": [
    "#cells_run = get_ipython().execution_count\n",
    "#test_result = hn.utils.tests.compare_cell_count(cells_in_notebook=12, cells_executed=cells_run, print_positive=True)"
   ]
  }
 ],
 "metadata": {
  "kernelspec": {
   "display_name": "Python 3 (ipykernel)",
   "language": "python",
   "name": "python3"
  },
  "language_info": {
   "codemirror_mode": {
    "name": "ipython",
    "version": 3
   },
   "file_extension": ".py",
   "mimetype": "text/x-python",
   "name": "python",
   "nbconvert_exporter": "python",
   "pygments_lexer": "ipython3",
   "version": "3.7.12"
  }
 },
 "nbformat": 4,
 "nbformat_minor": 4
}
